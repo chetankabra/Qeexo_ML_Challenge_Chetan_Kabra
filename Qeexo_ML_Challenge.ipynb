{
 "cells": [
  {
   "cell_type": "markdown",
   "metadata": {},
   "source": [
    "# Qeexo Machine Learning Challenge\n",
    "The goal of the challenge is to write a program that takes input files describing information about a touch on a\n",
    "mobile device and determines whether the touch is from a finger pad or knuckle. Your program will classify\n",
    "approximately 10,000 unlabeled touches."
   ]
  },
  {
   "cell_type": "code",
   "execution_count": 1,
   "metadata": {
    "collapsed": false
   },
   "outputs": [],
   "source": [
    "from utility import load_instances, load_labels, load_timestamps, convert_to_classlabels, write_results\n",
    "from SVM import SVM\n",
    "import sys\n",
    "import os\n",
    "import csv\n",
    "import numpy as np\n",
    "import scipy.io.wavfile\n",
    "from sklearn.utils import shuffle\n",
    "import cvxopt\n",
    "import  scipy as sp\n",
    "from sklearn import svm\n",
    "from matplotlib import pyplot as plt\n",
    "from sklearn.metrics import confusion_matrix\n",
    "from sklearn import linear_model\n",
    "from sklearn.grid_search import GridSearchCV\n",
    "from sklearn.neighbors import KNeighborsClassifier"
   ]
  },
  {
   "cell_type": "markdown",
   "metadata": {},
   "source": [
    "#  First Step:\n",
    "\n",
    "1. Feature Selection and  Adding Features\n",
    "2. Used Audio.wav and Touch.csv features\n",
    "3. From touch.csv - Selected x,y,major and minor features\n",
    "4. From Touch.csv - Removed orientation and Pressure has zero variance and not helping much more\n",
    "5. Used Z-score normailization Technique to normalize the inputs"
   ]
  },
  {
   "cell_type": "code",
   "execution_count": 20,
   "metadata": {
    "collapsed": false
   },
   "outputs": [],
   "source": [
    "def normailze(X):\n",
    "    '''\n",
    "    Z-score normailzation to normailze the data.\n",
    "    '''\n",
    "    standard_deviation = np.std(X)\n",
    "    mean = X.mean(axis = 0)\n",
    "    X = (X - mean)/standard_deviation\n",
    "    return X\n",
    "\n",
    "def generate_features(instances):\n",
    "    \"\"\" generate features\n",
    "        param instances: a list of Instance class objects\n",
    "        return: a feature matrix\n",
    "    \"\"\"\n",
    "    # create a naive feature set\n",
    "    X = np.array([instance.audio.astype(float) for instance in instances])\n",
    "    X = np.hstack((X, np.array([instance.touch['y'] for instance in instances]).reshape(X.shape[0], 1)))\n",
    "    X = np.hstack((X, np.array([instance.touch['x'] for instance in instances]).reshape(X.shape[0], 1)))\n",
    "    X = normailze(X)\n",
    "    X = np.hstack((X, np.array([instance.touch['major'] for instance in instances]).reshape(X.shape[0], 1)))\n",
    "    X = np.hstack((X, np.array([instance.touch['minor'] for instance in instances]).reshape(X.shape[0], 1)))\n",
    "    #X = np.hstack((X, (3.14 * (np.array([instance.touch['minor'] for instance in instances]) / 2.0) *\n",
    "                   #( np.array([instance.touch['major'] for instance in instances]) / 2.0)).reshape(20659, 1)))\n",
    "    return X\n",
    "\n",
    "def train_model(X, y):\n",
    "    \"\"\" train a model (1 nearest neighbor)\n",
    "        param X: a feature matrix\n",
    "        param y: a vector contains labels\n",
    "        return : trained model\n",
    "    \"\"\"\n",
    "    # train a naive model (1-NN)\n",
    "    model = {\"X\": X, \"y\": y}\n",
    "    return model\n",
    "\n",
    "                  \n",
    "def test_model(X_test, model):\n",
    "    \"\"\" test a model (1 nearest neighbor)\n",
    "        param X_test: a feature matrix\n",
    "        param model: trained 1 NN model (copy of training data)\n",
    "        return : predicted labels for test data\n",
    "    \"\"\"\n",
    "    # test a 1-NN model\n",
    "    X_train = model[\"X\"]\n",
    "    y_train = model[\"y\"]\n",
    "    y_test = np.zeros(X_test.shape[1], dtype=int)\n",
    "    for i in range(X_test.shape[1]):\n",
    "        #temp = X_train.T-X_test[:,i]\n",
    "        y_test[i] = y_train[:,np.argmin(np.sum((X_train.T-X_test[:,i])**2, axis=1)**0.5)]\n",
    "    return y_test\n",
    "\n",
    "\n",
    "def accuracy(X_Labels, Y_Labels):\n",
    "    '''\n",
    "    created a function to calculate accuracy  of prediction\n",
    "    and return the percentage\n",
    "    '''\n",
    "    total =0\n",
    "    size = Y_Labels.shape[0]\n",
    "    i =0\n",
    "    print X_Labels.reshape, Y_Labels.shape\n",
    "    while(i < size):\n",
    "        if (X_Labels[:,i] == Y_Labels[i]):\n",
    "            total = total+1\n",
    "            i = i+1\n",
    "        else:\n",
    "            i = i+1\n",
    "\n",
    "    return ((float(total) / size) * 100)\n",
    "\n",
    "def cross_validation_k(all_data_set, all_data_labels, K):\n",
    "    '''\n",
    "    cross validation function will create K-fold training and testing set.\n",
    "    I have took a little different approach here and divided the total with k to get the testing portion\n",
    "    and rest will be the training_set\n",
    "    it will return an array of K-fold size containing training and testing dataset \n",
    "    '''\n",
    "\n",
    "    total_number = all_data_set.shape[0];\n",
    "    partion_ratio = int (total_number / K) ;\n",
    "    start =0;\n",
    "    end = partion_ratio;\n",
    "    #self.accuracy = [];\n",
    "    # k -fold validation :\n",
    "\n",
    "    all_data_set, all_data_labels  = shuffle(all_data_set, all_data_labels, random_state = 1234)\n",
    "\n",
    "    training_dataset = []\n",
    "    training_labels = []\n",
    "    testing_dataset = []\n",
    "    testing_labels = []\n",
    "    for i in range(0,K):\n",
    "        new_testing_set= np.copy(all_data_set.T[:,start:end])\n",
    "        new_testing_labels = np.copy(all_data_labels.T[:,start:end])\n",
    "        range_i = [ x for x in range(start,end)];\n",
    "        new_training_set =  np.delete(all_data_set.T,range_i, axis=1 )\n",
    "        new_training_labels = np.delete(all_data_labels.T,range_i, axis=1 )\n",
    "        start = end\n",
    "        end = partion_ratio+end\n",
    "        training_dataset.append(new_training_set)\n",
    "        training_labels.append(new_training_labels)\n",
    "        testing_dataset.append(new_testing_set)\n",
    "        testing_labels.append(new_testing_labels)\n",
    "    return training_dataset,training_labels, testing_dataset, testing_labels\n",
    "    \n",
    "def confusion_mat(target_labels, testing_labels):\n",
    "    '''\n",
    "    create confusion matrix to see the performance of a classification model\n",
    "    true positives (TP): These are cases in which we predicted yes (they have the disease), and they do have the disease.\n",
    "    true negatives (TN): We predicted no, and they don't have the disease.\n",
    "    false positives (FP): We predicted yes, but they don't actually have the disease. (Also known as a \"Type I error.\")\n",
    "    false negatives (FN): We predicted no, but they actually do have the disease. (Also known as a \"Type II error.\")\n",
    "    '''\n",
    "    \n",
    "    matrix = np.zeros((2,2))\n",
    "    for i in range(0, target_labels.shape[1]):\n",
    "        if (testing_labels[i] ==0):\n",
    "            if (target_labels[:,i] == testing_labels[i]):\n",
    "                matrix[0][0] += 1\n",
    "            else:\n",
    "                matrix[0][1] +=1\n",
    "        else:\n",
    "            if (target_labels[:,i] == testing_labels[i]):\n",
    "                matrix[1][1] += 1\n",
    "            else:\n",
    "                matrix[1][0] +=1\n",
    "   \n",
    "    return matrix\n",
    "\n",
    "def svm_model(ker, softmargin, training_set,training_labels, testing_set):\n",
    "    '''\n",
    "    created svm model libraray provided by sklearn .\n",
    "    I have implemented SVM library but for various kernel I need to used this sk-learn libraray \n",
    "    \n",
    "    '''\n",
    "    classifier = svm.SVC(kernel=ker, C=softmargin, gamma= 0.01, class_weight={1:1.2})\n",
    "    #print np.count_nonzero(new_training_labels)\n",
    "    classifier.fit(training_set.T, training_labels.reshape(training_labels.shape[1],1).ravel())\n",
    "    y_test = classifier.predict(testing_set.T)\n",
    "    return y_test\n",
    "\n",
    "def logisticRegression_model(training_set,training_labels, testing_set):\n",
    "    '''\n",
    "    created LogisticRegression model libraray provided by sklearn. \n",
    "    '''\n",
    "    classifier = linear_model.LogisticRegression()\n",
    "    classifier.fit(training_set.T, training_labels.reshape(training_labels.shape[1],1).ravel())\n",
    "    y_test = classifier.predict(testing_set.T)\n",
    "    return y_test\n",
    "\n",
    "def plot_confusion_matrix(conf):\n",
    "    '''\n",
    "    ploting confusion matrix for visulization.\n",
    "    \n",
    "    '''\n",
    "    classes = [0,1]\n",
    "    plt.imshow(conf, cmap='binary', interpolation='None')\n",
    "    tick_marks = np.arange(len(classes))\n",
    "    plt.xticks(tick_marks, classes, rotation=45)\n",
    "    plt.yticks(tick_marks, classes)\n",
    "    plt.show()\n",
    "    return conf\n",
    "\n",
    "def accuracy_plot(accuracy_r, k, Title):\n",
    "    '''\n",
    "    To plot accurcay for various models to analyze the models performance.\n",
    "    '''\n",
    "    plt.plot(accuracy_r)\n",
    "    plt.title(Title)\n",
    "    plt.xlabel('K-Fold')\n",
    "    plt.ylabel('Accuracy')\n",
    "    plt.axis([0, k, 0, 100])\n",
    "    plt.show()"
   ]
  },
  {
   "cell_type": "code",
   "execution_count": 21,
   "metadata": {
    "collapsed": false
   },
   "outputs": [
    {
     "name": "stdout",
     "output_type": "stream",
     "text": [
      "Feature Vector (20659L, 260L)\n"
     ]
    }
   ],
   "source": [
    "'''\n",
    "Loading the dataset and reshaping \n",
    "'''\n",
    "train_instances = load_instances(\"data/train\")\n",
    "X_train = generate_features(train_instances)\n",
    "print \"Feature Vector\" , X_train.shape\n",
    "y_trains = load_labels(train_instances)\n",
    "y_train = y_trains.reshape(y_trains.shape[0],1)"
   ]
  },
  {
   "cell_type": "markdown",
   "metadata": {},
   "source": [
    "# K-Fold Cross Validation "
   ]
  },
  {
   "cell_type": "code",
   "execution_count": 17,
   "metadata": {
    "collapsed": false
   },
   "outputs": [],
   "source": [
    "'''\n",
    "cross_validation function and create \n",
    "training_dataset,training_labels, testing_dataset, testing_labels\n",
    "'''\n",
    "K_fold = 10 # Enter the  number of fold you require\n",
    "training_dataset,training_labels, testing_dataset, testing_labels = cross_validation_k(X_train, y_train,K_fold)\n",
    "\n",
    "# Created small _dataset for experiement purpose\n",
    "#training_dataset,training_labels, testing_dataset, testing_labels = cross_validation_k(X_train[:2000,], y_train[:2000,],K_fold)\n"
   ]
  },
  {
   "cell_type": "markdown",
   "metadata": {},
   "source": [
    "# Experiment :  KNN Classifier\n",
    "\n",
    "1. Used the KNN provided in Example.\n",
    "2. To Find the K value I have used GridSearch\n",
    "3. From my experiement concluded Best K = 1"
   ]
  },
  {
   "cell_type": "code",
   "execution_count": 22,
   "metadata": {
    "collapsed": false
   },
   "outputs": [
    {
     "name": "stdout",
     "output_type": "stream",
     "text": [
      "<built-in method reshape of numpy.ndarray object at 0x000000003A0400D0> (2065L,)\n",
      "Accuracy : 92.3002421308\n",
      "[[ 992.  120.]\n",
      " [  39.  914.]]\n",
      "<built-in method reshape of numpy.ndarray object at 0x000000003A040620> (2065L,)\n",
      "Accuracy : 92.6876513317\n",
      "[[ 1018.   116.]\n",
      " [   35.   896.]]\n",
      "<built-in method reshape of numpy.ndarray object at 0x000000003A040350> (2065L,)\n",
      "Accuracy : 92.8329297821\n",
      "[[ 1006.   106.]\n",
      " [   42.   911.]]\n",
      "<built-in method reshape of numpy.ndarray object at 0x000000003A040CB0> (2065L,)\n",
      "Accuracy : 92.6876513317\n",
      "[[ 1000.   114.]\n",
      " [   37.   914.]]\n",
      "<built-in method reshape of numpy.ndarray object at 0x000000003A51E760> (2065L,)\n",
      "Accuracy : 92.1549636804\n",
      "[[ 996.  120.]\n",
      " [  42.  907.]]\n",
      "<built-in method reshape of numpy.ndarray object at 0x000000003A51E3A0> (2065L,)\n",
      "Accuracy : 93.3171912833\n",
      "[[ 972.  110.]\n",
      " [  28.  955.]]\n",
      "<built-in method reshape of numpy.ndarray object at 0x000000003A51E800> (2065L,)\n",
      "Accuracy : 91.8644067797\n",
      "[[ 1015.   129.]\n",
      " [   39.   882.]]\n",
      "<built-in method reshape of numpy.ndarray object at 0x000000003D32F6C0> (2065L,)\n",
      "Accuracy : 93.0750605327\n",
      "[[ 994.   99.]\n",
      " [  44.  928.]]\n",
      "<built-in method reshape of numpy.ndarray object at 0x000000003D32F940> (2065L,)\n",
      "Accuracy : 93.1234866828\n",
      "[[ 1009.   111.]\n",
      " [   31.   914.]]\n",
      "<built-in method reshape of numpy.ndarray object at 0x000000003D32F8A0> (2065L,)\n",
      "Accuracy : 92.4939467312\n",
      "[[ 1029.   122.]\n",
      " [   33.   881.]]\n",
      "Average Accuracy : 92.6537530266\n"
     ]
    },
    {
     "data": {
      "image/png": "[encoded data removed]",
      "text/plain": [
       "<matplotlib.figure.Figure at 0x383bae10>"
      ]
     },
     "metadata": {},
     "output_type": "display_data"
    }
   ],
   "source": [
    "Y_test = [] # to store all fold results\n",
    "accuracy_r = [] # to store accuracy for plotting\n",
    "total =0\n",
    "for i in range(0,K_fold):\n",
    "    # calling KNN model \n",
    "    model = train_model(training_dataset[i], training_labels[i])\n",
    "    y_test = test_model(testing_dataset[i], model)\n",
    "    result = accuracy(testing_labels[i], y_test)\n",
    "    print \"Accuracy :\", result\n",
    "    accuracy_r.append(result)\n",
    "    Y_test.append(y_test)\n",
    "    total = total+result\n",
    "    # creating \n",
    "    cf = confusion_mat(testing_labels[i], Y_test[i])\n",
    "    print cf\n",
    "print \"Average Accuracy :\" , total / K_fold\n",
    "# plot accuracy \n",
    "accuracy_plot(accuracy_r,K_fold,\"K-NearestNeighbors\")"
   ]
  },
  {
   "cell_type": "markdown",
   "metadata": {},
   "source": [
    "# Experiment: Logistic Regression\n",
    "\n",
    "1. Used Simple Logistic Regression\n",
    "2. Used Sk-Learn LogisticRegreesion Module\n",
    "3. As we have to predict binary classification thought one first to try using Logistic would be great idea\n",
    "4. Data set is large , I know computational it will be fast compare to SVM Liner Kernel"
   ]
  },
  {
   "cell_type": "code",
   "execution_count": 369,
   "metadata": {
    "collapsed": false
   },
   "outputs": [
    {
     "name": "stdout",
     "output_type": "stream",
     "text": [
      "<built-in method reshape of numpy.ndarray object at 0x000000004789F210> (2065L,)\n",
      "Accuracy : 81.8401937046\n",
      "[[ 842.  186.]\n",
      " [ 189.  848.]]\n",
      "<built-in method reshape of numpy.ndarray object at 0x000000004789FC60> (2065L,)\n",
      "Accuracy : 80.8232445521\n",
      "[[ 861.  204.]\n",
      " [ 192.  808.]]\n",
      "<built-in method reshape of numpy.ndarray object at 0x000000004789F670> (2065L,)\n",
      "Accuracy : 80.8232445521\n",
      "[[ 850.  198.]\n",
      " [ 198.  819.]]\n",
      "<built-in method reshape of numpy.ndarray object at 0x000000004789FC10> (2065L,)\n",
      "Accuracy : 82.5181598063\n",
      "[[ 885.  209.]\n",
      " [ 152.  819.]]\n",
      "<built-in method reshape of numpy.ndarray object at 0x000000004789FDF0> (2065L,)\n",
      "Accuracy : 81.3559322034\n",
      "[[ 872.  219.]\n",
      " [ 166.  808.]]\n",
      "<built-in method reshape of numpy.ndarray object at 0x000000004789F940> (2065L,)\n",
      "Accuracy : 81.6464891041\n",
      "[[ 861.  240.]\n",
      " [ 139.  825.]]\n",
      "<built-in method reshape of numpy.ndarray object at 0x000000004789FEE0> (2065L,)\n",
      "Accuracy : 81.1622276029\n",
      "[[ 881.  216.]\n",
      " [ 173.  795.]]\n",
      "<built-in method reshape of numpy.ndarray object at 0x000000004789F9E0> (2065L,)\n",
      "Accuracy : 81.5496368039\n",
      "[[ 843.  186.]\n",
      " [ 195.  841.]]\n",
      "<built-in method reshape of numpy.ndarray object at 0x00000000478A7F80> (2065L,)\n",
      "Accuracy : 83.3414043584\n",
      "[[ 877.  181.]\n",
      " [ 163.  844.]]\n",
      "<built-in method reshape of numpy.ndarray object at 0x00000000478A78A0> (2065L,)\n",
      "Accuracy : 82.6634382567\n",
      "[[ 906.  202.]\n",
      " [ 156.  801.]]\n",
      "Average Accuracy : 81.7723970944\n"
     ]
    },
    {
     "data": {
      "image/png": "[encoded data removed]",
      "text/plain": [
       "<matplotlib.figure.Figure at 0x4351d710>"
      ]
     },
     "metadata": {},
     "output_type": "display_data"
    }
   ],
   "source": [
    "Y_test = []\n",
    "accuracy_r = []\n",
    "total =0\n",
    "for i in range(0,K_fold):\n",
    "    y_test = logisticRegression_model(training_dataset[i],training_labels[i],testing_dataset[i])\n",
    "    result = accuracy(testing_labels[i], y_test)\n",
    "    print \"Accuracy :\", result\n",
    "    accuracy_r.append(result)\n",
    "    Y_test.append(y_test)\n",
    "    total = total + result\n",
    "    cf = confusion_mat(testing_labels[i], Y_test[i])\n",
    "    print cf\n",
    "print \"Average Accuracy :\" , total / K_fold\n",
    "accuracy_plot(accuracy_r,K_fold,\"Logistic Regression\")"
   ]
  },
  {
   "cell_type": "markdown",
   "metadata": {},
   "source": [
    "# Experiment: Support Vector Machine\n",
    "\n",
    "Selected SVM as per the Research Paper Finding and Obvious it is one of the best classifier\n",
    "\n",
    "# SVM - Linear Kernal\n",
    "1. Started with my SVM  Linear library \n",
    "2. For this experiment I have used my own SVM library \n",
    "2. Achieved the 85-88% of average accuracy on 10 k-Fold \n",
    "\n",
    "# SVM - Polynomial Kernal\n",
    "\n",
    "1. Used Sklearn SVC classfier with ploy kernel\n",
    "2. Achieved 89-90% accuracy on 10 k-Fold \n",
    "\n",
    "# SVM - RBF Kernal\n",
    "1. Used Sklearn SVC classfier - rbf Kernel\n",
    "2. Achieved 91-94% accuracy on 10 k-Fold \n",
    "\n",
    "# GridSearchCV sklearn to find the optimize parameter for SVM\n",
    "\n",
    "1. Used Grid Search CV Sklearn module\n",
    "2. Cross Validation = 3\n",
    "3. To find which kernel will permorn best with other soft margin and other tuning parameters\n",
    "4. {'kernel': 'rbf', 'C': 10, 'gamma': 0.01}"
   ]
  },
  {
   "cell_type": "code",
   "execution_count": 18,
   "metadata": {
    "collapsed": false
   },
   "outputs": [
    {
     "name": "stdout",
     "output_type": "stream",
     "text": [
      "<built-in method reshape of numpy.ndarray object at 0x000000003A0400D0> (2065L,)\n",
      "Accuracy : 93.7046004843\n",
      "[[ 978.   77.]\n",
      " [  53.  957.]]\n",
      "<built-in method reshape of numpy.ndarray object at 0x000000003A040620> (2065L,)\n",
      "Accuracy : 94.382566586\n",
      "[[ 1013.    76.]\n",
      " [   40.   936.]]\n",
      "<built-in method reshape of numpy.ndarray object at 0x000000003A040350> (2065L,)\n",
      "Accuracy : 93.6561743341\n",
      "[[ 997.   80.]\n",
      " [  51.  937.]]\n",
      "<built-in method reshape of numpy.ndarray object at 0x000000003A040CB0> (2065L,)\n",
      "Accuracy : 94.382566586\n",
      "[[ 997.   76.]\n",
      " [  40.  952.]]\n",
      "<built-in method reshape of numpy.ndarray object at 0x000000003A51E760> (2065L,)\n",
      "Accuracy : 93.5108958838\n",
      "[[ 982.   78.]\n",
      " [  56.  949.]]\n",
      "<built-in method reshape of numpy.ndarray object at 0x000000003A51E3A0> (2065L,)\n",
      "Accuracy : 93.5593220339\n",
      "[[ 938.   71.]\n",
      " [  62.  994.]]\n",
      "<built-in method reshape of numpy.ndarray object at 0x000000003A51E800> (2065L,)\n",
      "Accuracy : 93.1234866828\n",
      "[[ 997.   85.]\n",
      " [  57.  926.]]\n",
      "<built-in method reshape of numpy.ndarray object at 0x000000003D32F6C0> (2065L,)\n",
      "Accuracy : 92.2518159806\n",
      "[[ 969.   91.]\n",
      " [  69.  936.]]\n",
      "<built-in method reshape of numpy.ndarray object at 0x000000003D32F940> (2065L,)\n",
      "Accuracy : 93.8014527845\n",
      "[[ 992.   80.]\n",
      " [  48.  945.]]\n",
      "<built-in method reshape of numpy.ndarray object at 0x000000003D32F8A0> (2065L,)\n",
      "Accuracy : 93.995157385\n",
      "[[ 1020.    82.]\n",
      " [   42.   921.]]\n",
      "Average Accuracy : 93.6368038741\n"
     ]
    },
    {
     "data": {
      "image/png": "[encoded data removed]",
      "text/plain": [
       "<matplotlib.figure.Figure at 0x3d346438>"
      ]
     },
     "metadata": {},
     "output_type": "display_data"
    }
   ],
   "source": [
    "Y_test = []\n",
    "accuracy_r = []\n",
    "total = 0\n",
    "for i in range(0,K_fold):\n",
    "    y_test = svm_model(ker=\"rbf\",softmargin=10,training_set=training_dataset[i], training_labels= training_labels[i],\n",
    "                       testing_set = testing_dataset[i])\n",
    "    result = accuracy(testing_labels[i], y_test)\n",
    "    print \"Accuracy :\", result\n",
    "    accuracy_r.append(result)\n",
    "    total = total +result\n",
    "    Y_test.append(y_test)\n",
    "    cf = confusion_mat(testing_labels[i], Y_test[i])\n",
    "    print cf\n",
    "print \"Average Accuracy :\" , total / K_fold\n",
    "accuracy_plot(accuracy_r,K_fold,\"SVM- RBF Kernel\")"
   ]
  },
  {
   "cell_type": "code",
   "execution_count": 373,
   "metadata": {
    "collapsed": false
   },
   "outputs": [],
   "source": [
    "'''\n",
    "GridSearchCV sklearn to find the optimize parameter for SVM\n",
    "Used Grid Search CV Sklearn module\n",
    "Cross Validation = 3\n",
    "To find which kernel will permorn best with other soft margin and other tuning parameters\n",
    "'''\n",
    "\n",
    "def svm_model_test(training_set, training_labels, testing_set):\n",
    "    tuned_parameters = [{'kernel' : ['rbf'], 'gamma': [0.1, 1e-2], 'C': [10, 100], 'class_weight': [{1:1.0145294978059483},{1:1}]},\n",
    "                    {'kernel' : ['poly'], 'degree' : [5, 9], 'C' : [1, 10,100], 'class_weight': [{1:1.0145294978059483}],{1:1}}] \n",
    "    classifier = GridSearchCV(svm.SVC(),tuned_parameters,verbose=2,cv=3)\n",
    "    classifier.fit(training_set.T, training_labels.reshape(training_labels.shape[1],1).ravel())\n",
    "    predictions_svm= classifier.predict(testing_set.T)\n",
    "    print classifier.best_estimator_\n",
    "    print classifier.best_score_\n",
    "    print classifier.best_params_"
   ]
  },
  {
   "cell_type": "code",
   "execution_count": 374,
   "metadata": {
    "collapsed": false,
    "scrolled": false
   },
   "outputs": [
    {
     "name": "stdout",
     "output_type": "stream",
     "text": [
      "Fitting 3 folds for each of 10 candidates, totalling 30 fits\n",
      "[CV] kernel=rbf, C=10, gamma=0.1, class_weight={1: 1.0145294978059483} \n",
      "[CV]  kernel=rbf, C=10, gamma=0.1, class_weight={1: 1.0145294978059483} - 2.4min\n",
      "[CV] kernel=rbf, C=10, gamma=0.1, class_weight={1: 1.0145294978059483} \n",
      "[CV]  kernel=rbf, C=10, gamma=0.1, class_weight={1: 1.0145294978059483} - 2.5min\n",
      "[CV] kernel=rbf, C=10, gamma=0.1, class_weight={1: 1.0145294978059483} \n",
      "[CV]  kernel=rbf, C=10, gamma=0.1, class_weight={1: 1.0145294978059483} - 2.4min\n",
      "[CV] kernel=rbf, C=10, gamma=0.01, class_weight={1: 1.0145294978059483} \n",
      "[CV]  kernel=rbf, C=10, gamma=0.01, class_weight={1: 1.0145294978059483} -  31.8s\n",
      "[CV] kernel=rbf, C=10, gamma=0.01, class_weight={1: 1.0145294978059483} \n",
      "[CV]  kernel=rbf, C=10, gamma=0.01, class_weight={1: 1.0145294978059483} -  31.7s\n",
      "[CV] kernel=rbf, C=10, gamma=0.01, class_weight={1: 1.0145294978059483} \n",
      "[CV]  kernel=rbf, C=10, gamma=0.01, class_weight={1: 1.0145294978059483} -  31.5s\n",
      "[CV] kernel=rbf, C=100, gamma=0.1, class_weight={1: 1.0145294978059483} \n",
      "[CV]  kernel=rbf, C=100, gamma=0.1, class_weight={1: 1.0145294978059483} - 2.4min\n",
      "[CV] kernel=rbf, C=100, gamma=0.1, class_weight={1: 1.0145294978059483} \n",
      "[CV]  kernel=rbf, C=100, gamma=0.1, class_weight={1: 1.0145294978059483} - 2.4min\n",
      "[CV] kernel=rbf, C=100, gamma=0.1, class_weight={1: 1.0145294978059483} \n",
      "[CV]  kernel=rbf, C=100, gamma=0.1, class_weight={1: 1.0145294978059483} - 2.4min\n",
      "[CV] kernel=rbf, C=100, gamma=0.01, class_weight={1: 1.0145294978059483} \n",
      "[CV]  kernel=rbf, C=100, gamma=0.01, class_weight={1: 1.0145294978059483} -  21.2s\n",
      "[CV] kernel=rbf, C=100, gamma=0.01, class_weight={1: 1.0145294978059483} \n",
      "[CV]  kernel=rbf, C=100, gamma=0.01, class_weight={1: 1.0145294978059483} -  20.9s\n",
      "[CV] kernel=rbf, C=100, gamma=0.01, class_weight={1: 1.0145294978059483} \n",
      "[CV]  kernel=rbf, C=100, gamma=0.01, class_weight={1: 1.0145294978059483} -  21.7s\n",
      "[CV] kernel=poly, C=1, degree=5, class_weight={1: 1.0145294978059483} \n",
      "[CV]  kernel=poly, C=1, degree=5, class_weight={1: 1.0145294978059483} -  44.9s\n",
      "[CV] kernel=poly, C=1, degree=5, class_weight={1: 1.0145294978059483} \n",
      "[CV]  kernel=poly, C=1, degree=5, class_weight={1: 1.0145294978059483} -  44.9s\n",
      "[CV] kernel=poly, C=1, degree=5, class_weight={1: 1.0145294978059483} \n",
      "[CV]  kernel=poly, C=1, degree=5, class_weight={1: 1.0145294978059483} -  48.7s\n",
      "[CV] kernel=poly, C=1, degree=9, class_weight={1: 1.0145294978059483} \n",
      "[CV]  kernel=poly, C=1, degree=9, class_weight={1: 1.0145294978059483} -  58.1s\n",
      "[CV] kernel=poly, C=1, degree=9, class_weight={1: 1.0145294978059483} \n",
      "[CV]  kernel=poly, C=1, degree=9, class_weight={1: 1.0145294978059483} -  57.6s\n",
      "[CV] kernel=poly, C=1, degree=9, class_weight={1: 1.0145294978059483} \n",
      "[CV]  kernel=poly, C=1, degree=9, class_weight={1: 1.0145294978059483} -  58.3s\n",
      "[CV] kernel=poly, C=10, degree=5, class_weight={1: 1.0145294978059483} \n",
      "[CV]  kernel=poly, C=10, degree=5, class_weight={1: 1.0145294978059483} -  37.5s\n",
      "[CV] kernel=poly, C=10, degree=5, class_weight={1: 1.0145294978059483} \n",
      "[CV]  kernel=poly, C=10, degree=5, class_weight={1: 1.0145294978059483} -  38.0s\n",
      "[CV] kernel=poly, C=10, degree=5, class_weight={1: 1.0145294978059483} \n",
      "[CV]  kernel=poly, C=10, degree=5, class_weight={1: 1.0145294978059483} -  38.2s\n",
      "[CV] kernel=poly, C=10, degree=9, class_weight={1: 1.0145294978059483} \n",
      "[CV]  kernel=poly, C=10, degree=9, class_weight={1: 1.0145294978059483} -  52.3s\n",
      "[CV] kernel=poly, C=10, degree=9, class_weight={1: 1.0145294978059483} \n",
      "[CV]  kernel=poly, C=10, degree=9, class_weight={1: 1.0145294978059483} -  50.7s\n",
      "[CV] kernel=poly, C=10, degree=9, class_weight={1: 1.0145294978059483} \n",
      "[CV]  kernel=poly, C=10, degree=9, class_weight={1: 1.0145294978059483} -  52.8s\n",
      "[CV] kernel=poly, C=100, degree=5, class_weight={1: 1.0145294978059483} \n",
      "[CV]  kernel=poly, C=100, degree=5, class_weight={1: 1.0145294978059483} -  27.8s\n",
      "[CV] kernel=poly, C=100, degree=5, class_weight={1: 1.0145294978059483} \n",
      "[CV]  kernel=poly, C=100, degree=5, class_weight={1: 1.0145294978059483} -  28.4s\n",
      "[CV] kernel=poly, C=100, degree=5, class_weight={1: 1.0145294978059483} \n",
      "[CV]  kernel=poly, C=100, degree=5, class_weight={1: 1.0145294978059483} -  28.7s\n",
      "[CV] kernel=poly, C=100, degree=9, class_weight={1: 1.0145294978059483} \n",
      "[CV]  kernel=poly, C=100, degree=9, class_weight={1: 1.0145294978059483} -  45.5s\n",
      "[CV] kernel=poly, C=100, degree=9, class_weight={1: 1.0145294978059483} \n",
      "[CV]  kernel=poly, C=100, degree=9, class_weight={1: 1.0145294978059483} -  44.4s\n",
      "[CV] kernel=poly, C=100, degree=9, class_weight={1: 1.0145294978059483} \n",
      "[CV]  kernel=poly, C=100, degree=9, class_weight={1: 1.0145294978059483} -  45.9s\n"
     ]
    },
    {
     "name": "stderr",
     "output_type": "stream",
     "text": [
      "[Parallel(n_jobs=1)]: Done  30 out of  30 | elapsed: 30.7min finished\n"
     ]
    },
    {
     "name": "stdout",
     "output_type": "stream",
     "text": [
      "SVC(C=10, cache_size=200, class_weight={1: 1.0145294978059483}, coef0=0.0,\n",
      "  decision_function_shape=None, degree=3, gamma=0.01, kernel='rbf',\n",
      "  max_iter=-1, probability=False, random_state=None, shrinking=True,\n",
      "  tol=0.001, verbose=False)\n",
      "0.929600946542\n",
      "{'kernel': 'rbf', 'C': 10, 'gamma': 0.01, 'class_weight': {1: 1.0145294978059483}}\n"
     ]
    }
   ],
   "source": [
    "svm_model_test(training_dataset[4], training_labels[4], testing_dataset[4])"
   ]
  },
  {
   "cell_type": "markdown",
   "metadata": {},
   "source": [
    "# Final Output : \n",
    "\n",
    "1. As per Experiment Results I choose SVM with RBF kernel\n",
    "2. SVM with following Parameters {'kernel': 'rbf', 'C': 10, 'gamma': 0.01}\n",
    "3. Trained the Model on The Training Dataset\n",
    "4. Used the Utitlity model from the Examples\n",
    "5. Stored the Results : fingersense-test-labels.csv"
   ]
  },
  {
   "cell_type": "code",
   "execution_count": 377,
   "metadata": {
    "collapsed": false
   },
   "outputs": [],
   "source": [
    "'''\n",
    "final or performing classification on test data using SVM classifier\n",
    "'''\n",
    "# Loading the test data  \n",
    "test_instances = load_instances(\"data/test\")\n",
    "X_test = generate_features(test_instances)\n",
    "\n",
    "\n",
    "# fiting the svm model \n",
    "\n",
    "y_test = svm_model(ker=\"rbf\",softmargin=10,training_set=X_train.T, training_labels= y_train.T,\n",
    "                       testing_set = X_test.T)\n",
    "\n",
    "#y_test = logisticRegression_model(X_train.T,y_train.T,X_test.T)\n",
    "\n",
    "# prepare test data\n",
    "\n",
    "timestamps = load_timestamps(test_instances)\n",
    "\n",
    "# predict\n",
    "#y_test = test_model(X_test, model)\n",
    "classlabels = convert_to_classlabels(y_test)\n",
    "\n",
    "# save results\n",
    "#print(accuracy(y_test_labels,y_test))\n",
    "write_results(timestamps, classlabels, \"./fingersense-test-labels.csv\")\n"
   ]
  },
  {
   "cell_type": "code",
   "execution_count": null,
   "metadata": {
    "collapsed": true
   },
   "outputs": [],
   "source": []
  }
 ],
 "metadata": {
  "anaconda-cloud": {},
  "kernelspec": {
   "display_name": "Python [conda root]",
   "language": "python",
   "name": "conda-root-py"
  },
  "language_info": {
   "codemirror_mode": {
    "name": "ipython",
    "version": 2
   },
   "file_extension": ".py",
   "mimetype": "text/x-python",
   "name": "python",
   "nbconvert_exporter": "python",
   "pygments_lexer": "ipython2",
   "version": "2.7.12"
  }
 },
 "nbformat": 4,
 "nbformat_minor": 1
}
